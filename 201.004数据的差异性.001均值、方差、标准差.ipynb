{
 "cells": [
  {
   "cell_type": "markdown",
   "metadata": {},
   "source": [
    "## (1)中间值和均值\n",
    "表现＂中间值＂的统计名词：<br/>\n",
    "　　a.均值: 　　mean，数列的算术平均值，反应了数列的集中趋势,等于有效数值的合除以有效数值的个数．<br/>\n",
    "　　b.中位值: 　median，等于排序后中间位置的值，当数列长度为偶数时，取中间两个值的均值．<br/>\n",
    "　　c.众数: 　　mode，等于数列出现次数最多的数字，当多个数字都出现最高次数时，多个数字都是众数．<br/>\n",
    "\n",
    "在统计学中，为了区分＂样本（抽样）概念＂和＂总体概念＂，将均值区分为样本均值和总体均值，而它们的实际大小是相同的．<br/>\n",
    "总体均值  $\\mu =\\frac{ \\sum_{i=1}^N Xi}N $ <br/>\n",
    "样本均值  $\\overline x=\\frac{\\sum_{i=1}^n Xi}{n}$"
   ]
  },
  {
   "cell_type": "markdown",
   "metadata": {},
   "source": [
    "## (2)总体方差 \n",
    "> 方差$（variance) \\sigma^2$ 是衡量随机变量或一组数据时离散程度的度量。 <br/>\n",
    "$$\\delta ^{2} = variance = \\frac{\\sum_{i=1}^{N}(X_{i}-\\mu )^{2}}{N}$$\n",
    "\n",
    "公式解析：<br/>\n",
    "　　1.因为和样本数无关，所以分母为样本数 <br/>\n",
    "\n",
    "　　2.累加每个值和均值差值的平方，对应于每个值相对于均值的偏差，对应于离散程度，<br/>\n",
    "\n",
    "　　平方是对离散程度的加剧，同时能让差值总为正数，以符合偏差的概念意义<br/>\n",
    "\n",
    "　　3.显然，如果所有数值都乘以n倍，总体方差会乘以 $n^2$ 倍<br/>\n",
    "\n",
    "总体方差的使用：$[2,2,3,3]$和$[0,0,5,5]$两组数据拥有相同的均值、中位值，但是离散程度却不相同，见下面程序解答。<br/>\n",
    "\n"
   ]
  },
  {
   "cell_type": "code",
   "execution_count": 3,
   "metadata": {},
   "outputs": [
    {
     "name": "stdout",
     "output_type": "stream",
     "text": [
      "6.25 0.25\n",
      "2.5 0.5\n",
      "8.333333333333334 0.3333333333333333\n",
      "2.886751345948129 0.5773502691896257\n"
     ]
    }
   ],
   "source": [
    "import numpy as np\n",
    "a1= np.array([0,0,5,5])\n",
    "a2= np.array([2,2,3,3])\n",
    "print (a1.var() , a2.var()) # 6.25 0.25\n",
    "print (a1.std() ,a2.std()) # 2.5 0.5\n",
    "print (a1.var(ddof=1) , a2.var(ddof=1)) #ddof = 1代表样本的方差和标准差\n",
    "print (a1.std(ddof=1) ,a2.std(ddof=1))   "
   ]
  },
  {
   "cell_type": "markdown",
   "metadata": {},
   "source": [
    "## (3)基于概率模型的总体方差：\n",
    "\n",
    "某种概率模型中得到0的概率为40%，得到1的概率为60%，这个模型实际上是一种伯努利验证，运行足够多次模型后，所有得到的值的方差为是多少呢？\n",
    "\n",
    "这里期望Ｅ为0.6，Ｅ也意味着预期的均值，所以这里方差为：\n",
    "因为$\\sigma^2= \\frac{\\sum_{i=1}^N(Xi-\\mu)^2}N $ <br/>\n",
    "如果Ｎ为１亿，那么就大约有４千万个０，６千万个１ <br/>\n",
    "设p1=4千万/1亿=0.4，p2=6千万/1亿=0.6，$Ｅ=\\mu$，得到如下公式： \n",
    "    $$\\sigma^2 = p_1(v_1-E)^2 + ....+p_n(v_n-E)^2 $$\n",
    "    $$\\sigma^2 = p_1(v_1-E)^2 + p_2(v_2-E)^2 $$\n",
    "    $$\\sigma^2 = 40\\%*(0-0.6)^2 + 60\\%*(1-0.6)^2 = 0.24$$\n",
    "    \n",
    "\n",
    "> 二项分布的均值和方差公式：<br/>\n",
    "(1)$\\mu = n(1-p)*0 + np*1 = np$ <br/> \n",
    "(2)$\\sigma^2 = n(1-p)(0-p)^2 + np(1-p)^2=n(1-p)p^2+np(1-2p+p^2)=np-np^2 =np(1-p)$ <br/>\n",
    "(3)$\\sigma = \\sqrt{np(1-p)} $\n"
   ]
  },
  {
   "cell_type": "markdown",
   "metadata": {},
   "source": [
    "## (4)样本方差\n",
    "> 样本方差是指总体各单位变量值与其算术平均数的离差平方的平均数。\n",
    "样本方差的意义是用来估计总体方差（统计术语：样本方差是对总体方差的无偏估计），样本方差计算公式和总体方差不同．\n",
    "\n",
    "$$ S^{2} = S_{N-1}^{2} = sample variance = \\frac{\\sum_{i=1}^{n}(x_{i}-\\bar{x})^{2}}{n-1} $$\n",
    "\n",
    "注意上述公式分母由总体方差的N变为了n-1，使得样本方差更能反映总体方差。\n"
   ]
  },
  {
   "cell_type": "code",
   "execution_count": 4,
   "metadata": {},
   "outputs": [
    {
     "name": "stdout",
     "output_type": "stream",
     "text": [
      "8.333333333333334 0.3333333333333333\n",
      "2.886751345948129 0.5773502691896257\n"
     ]
    }
   ],
   "source": [
    "import numpy as np\n",
    "a1= np.array([0,0,5,5])\n",
    "a2= np.array([2,2,3,3])\n",
    "\n",
    "print (a1.var(ddof=1) , a2.var(ddof=1)) #ddof = 1代表样本的方差和标准差\n",
    "print (a1.std(ddof=1) ,a2.std(ddof=1))  "
   ]
  },
  {
   "cell_type": "code",
   "execution_count": null,
   "metadata": {},
   "outputs": [],
   "source": []
  }
 ],
 "metadata": {
  "kernelspec": {
   "display_name": "Python 3",
   "language": "python",
   "name": "python3"
  },
  "language_info": {
   "codemirror_mode": {
    "name": "ipython",
    "version": 3
   },
   "file_extension": ".py",
   "mimetype": "text/x-python",
   "name": "python",
   "nbconvert_exporter": "python",
   "pygments_lexer": "ipython3",
   "version": "3.7.2"
  }
 },
 "nbformat": 4,
 "nbformat_minor": 1
}
