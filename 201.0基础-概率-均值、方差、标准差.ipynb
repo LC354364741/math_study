{
 "cells": [
  {
   "cell_type": "markdown",
   "metadata": {},
   "source": [
    "表现＂中间值＂的统计名词：\n",
    "　　a.均值: 　　mean，数列的算术平均值，反应了数列的集中趋势,等于有效数值的合除以有效数值的个数．\n",
    "　　b.中位值: 　　median，等于排序后中间位置的值，当数列长度为偶数时，取中间两个值的均值．\n",
    "　　c.众数: 　　mode，等于数列出现次数最多的数字，当多个数字都出现最高次数时，多个数字都是众数．\n",
    "\n",
    "在统计学中，为了区分＂样本（抽样）概念＂和＂总体概念＂，将均值区分为样本均值和总体均值，而它们的实际大小是相同的．\n",
    "总体均值  $\\mu =\\frac{ \\sum_{i=1}^N Xi}N $\n",
    "样本均值  $\\overline x=\\frac{\\sum_{i=1}^n Xi}{n}$"
   ]
  },
  {
   "cell_type": "code",
   "execution_count": null,
   "metadata": {},
   "outputs": [],
   "source": []
  }
 ],
 "metadata": {
  "kernelspec": {
   "display_name": "Python 2",
   "language": "python",
   "name": "python2"
  },
  "language_info": {
   "codemirror_mode": {
    "name": "ipython",
    "version": 2
   },
   "file_extension": ".py",
   "mimetype": "text/x-python",
   "name": "python",
   "nbconvert_exporter": "python",
   "pygments_lexer": "ipython2",
   "version": "2.7.6"
  }
 },
 "nbformat": 4,
 "nbformat_minor": 0
}
